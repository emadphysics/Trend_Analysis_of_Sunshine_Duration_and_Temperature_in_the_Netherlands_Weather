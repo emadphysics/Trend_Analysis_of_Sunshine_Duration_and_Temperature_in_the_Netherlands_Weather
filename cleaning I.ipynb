{
 "cells": [
  {
   "cell_type": "code",
   "execution_count": 1,
   "metadata": {},
   "outputs": [],
   "source": [
    "import joypy\n",
    "import matplotlib as mpl\n",
    "import matplotlib.pyplot as plt\n",
    "import numpy as np\n",
    "import pandas as pd\n",
    "import plotly\n",
    "import plotly_express as px\n",
    "import plotly.graph_objects as go\n",
    "import plotly.offline as py\n",
    "import seaborn as sns\n",
    "import missingno as msno\n",
    "from datetime import datetime\n",
    "from matplotlib import cm\n",
    "from sklearn.feature_selection import SelectKBest, chi2\n",
    "from feature_engine.missing_data_imputers import RandomSampleImputer"
   ]
  },
  {
   "cell_type": "code",
   "execution_count": 2,
   "metadata": {},
   "outputs": [
    {
     "name": "stderr",
     "output_type": "stream",
     "text": [
      "C:\\Users\\Gebruiker\\anaconda3\\lib\\site-packages\\IPython\\core\\interactiveshell.py:3071: DtypeWarning:\n",
      "\n",
      "Columns (0,2,3,4,5,6,7,8,11,12,13,14,15,16,18,19,20,21,22,23,25,26,28,30,31,32,33,34,35,36,37,38,39,40) have mixed types.Specify dtype option on import or set low_memory=False.\n",
      "\n"
     ]
    },
    {
     "name": "stdout",
     "output_type": "stream",
     "text": [
      "--->dimension of dataset\n",
      "(831845, 41)\n",
      "--------------------------------------------------------------------------\n",
      "--->Preview the dataset\n",
      "        # STN    YYYYMMDD  DDVEC  FHVEC     FG    FHX   FHXH    FHN   FHNH  \\\n",
      "653967    344  19740424.0    354     57     62     93     15     26      6   \n",
      "747342    375  19550222.0     72     57     57     77      1     36      7   \n",
      "42558     225  19960715.0     10     62     65    100     16     20      1   \n",
      "11971     210  19640323.0    286     10     10     41     15      0      1   \n",
      "436267    290  19720827.0     64     26     26     41     22     15      3   \n",
      "\n",
      "          FXX  ...   VVNH    VVX   VVXH     NG     UG     UX    UXH     UN  \\\n",
      "653967    129  ...      6     80      8      3     89    100     24     76   \n",
      "747342         ...     10     58      3      3                               \n",
      "42558     120  ...      1     84      6      3                               \n",
      "11971          ...      3     40     12      8                               \n",
      "436267     57  ...     20     70      1      6     88     99      1     63   \n",
      "\n",
      "          UNH   EV24  \n",
      "653967     13         \n",
      "747342                \n",
      "42558                 \n",
      "11971                 \n",
      "436267     14         \n",
      "\n",
      "[5 rows x 41 columns]\n",
      "--------------------------------------------------------------------------\n",
      "--->View summary of dataset\n",
      "<class 'pandas.core.frame.DataFrame'>\n",
      "RangeIndex: 831845 entries, 0 to 831844\n",
      "Data columns (total 41 columns):\n",
      " #   Column    Non-Null Count   Dtype  \n",
      "---  ------    --------------   -----  \n",
      " 0   # STN     831845 non-null  object \n",
      " 1   YYYYMMDD  831844 non-null  float64\n",
      " 2   DDVEC     831844 non-null  object \n",
      " 3   FHVEC     831844 non-null  object \n",
      " 4      FG     831844 non-null  object \n",
      " 5     FHX     831844 non-null  object \n",
      " 6    FHXH     831844 non-null  object \n",
      " 7     FHN     831844 non-null  object \n",
      " 8    FHNH     831844 non-null  object \n",
      " 9     FXX     831844 non-null  object \n",
      " 10   FXXH     831844 non-null  object \n",
      " 11     TG     831844 non-null  object \n",
      " 12     TN     831844 non-null  object \n",
      " 13    TNH     831844 non-null  object \n",
      " 14     TX     831844 non-null  object \n",
      " 15    TXH     831844 non-null  object \n",
      " 16   T10N     831844 non-null  object \n",
      " 17  T10NH     831844 non-null  object \n",
      " 18     SQ     831844 non-null  object \n",
      " 19     SP     831844 non-null  object \n",
      " 20      Q     831844 non-null  object \n",
      " 21     DR     831844 non-null  object \n",
      " 22     RH     831844 non-null  object \n",
      " 23    RHX     831844 non-null  object \n",
      " 24   RHXH     831844 non-null  object \n",
      " 25     PG     831844 non-null  object \n",
      " 26     PX     831844 non-null  object \n",
      " 27    PXH     831844 non-null  object \n",
      " 28     PN     831844 non-null  object \n",
      " 29    PNH     831844 non-null  object \n",
      " 30    VVN     831844 non-null  object \n",
      " 31   VVNH     831844 non-null  object \n",
      " 32    VVX     831844 non-null  object \n",
      " 33   VVXH     831844 non-null  object \n",
      " 34     NG     831844 non-null  object \n",
      " 35     UG     831844 non-null  object \n",
      " 36     UX     831844 non-null  object \n",
      " 37    UXH     831844 non-null  object \n",
      " 38     UN     831844 non-null  object \n",
      " 39    UNH     831844 non-null  object \n",
      " 40   EV24     831844 non-null  object \n",
      "dtypes: float64(1), object(40)\n",
      "memory usage: 260.2+ MB\n",
      "--------------------------------------------------------------------------\n",
      "--->View column names\n"
     ]
    },
    {
     "data": {
      "text/plain": [
       "Index(['# STN', 'YYYYMMDD', 'DDVEC', 'FHVEC', '   FG', '  FHX', ' FHXH',\n",
       "       '  FHN', ' FHNH', '  FXX', ' FXXH', '   TG', '   TN', '  TNH', '   TX',\n",
       "       '  TXH', ' T10N', 'T10NH', '   SQ', '   SP', '    Q', '   DR', '   RH',\n",
       "       '  RHX', ' RHXH', '   PG', '   PX', '  PXH', '   PN', '  PNH', '  VVN',\n",
       "       ' VVNH', '  VVX', ' VVXH', '   NG', '   UG', '   UX', '  UXH', '   UN',\n",
       "       '  UNH', ' EV24'],\n",
       "      dtype='object')"
      ]
     },
     "execution_count": 2,
     "metadata": {},
     "output_type": "execute_result"
    }
   ],
   "source": [
    "filename='KNMI.txt'\n",
    "df = pd.read_csv(filename,error_bad_lines=False,header=0)\n",
    "print('--->dimension of dataset')\n",
    "print(df.shape)\n",
    "print('--------------------------------------------------------------------------')\n",
    "print('--->Preview the dataset')\n",
    "\n",
    "print(df.sample(5))\n",
    "print('--------------------------------------------------------------------------')\n",
    "print('--->View summary of dataset')\n",
    "\n",
    "df.info()\n",
    "print('--------------------------------------------------------------------------')\n",
    "print('--->View column names') \n",
    "df.columns"
   ]
  },
  {
   "cell_type": "code",
   "execution_count": 3,
   "metadata": {},
   "outputs": [],
   "source": [
    "#The non-numerical columns names:\n",
    "del df['# STN']\n",
    "#df['YYYYMMDD'] = pd.to_datetime(df['YYYYMMDD'], format='%Y%m%d')\n",
    "df['YYYYMMDD'] = pd.to_datetime(df['YYYYMMDD'], format='%Y%m%d')\n",
    "#df['YYYYMMDD'].dt.year\n",
    "df.rename(columns = {'YYYYMMDD':'Date'}, inplace = True)  \n",
    "df.columns=df.columns.str.replace(' ','')\n",
    "df.drop([0],inplace=True)\n",
    "#df.set_index(\"Date\", inplace=True)\n",
    "numerical_columns=df.select_dtypes(exclude =[np.number]).columns"
   ]
  },
  {
   "cell_type": "code",
   "execution_count": 4,
   "metadata": {},
   "outputs": [],
   "source": [
    "df['Year']=df['Date'].dt.year\n",
    "df['Month']=df['Date'].dt.month\n",
    "df['Day']=df['Date'].dt.day"
   ]
  },
  {
   "cell_type": "code",
   "execution_count": null,
   "metadata": {},
   "outputs": [],
   "source": []
  },
  {
   "cell_type": "code",
   "execution_count": 5,
   "metadata": {},
   "outputs": [
    {
     "data": {
      "text/plain": [
       "Date     11677\n",
       "DDVEC    11677\n",
       "FHVEC    11677\n",
       "FG       11677\n",
       "FHX      11677\n",
       "FHXH     11677\n",
       "FHN      11677\n",
       "FHNH     11677\n",
       "FXX      11677\n",
       "FXXH     11677\n",
       "TG       11677\n",
       "TN       11677\n",
       "TNH      11677\n",
       "TX       11677\n",
       "TXH      11677\n",
       "T10N     11677\n",
       "T10NH    11677\n",
       "SQ       11677\n",
       "SP       11677\n",
       "Q        11677\n",
       "DR       11677\n",
       "RH       11677\n",
       "RHX      11677\n",
       "RHXH     11677\n",
       "PG       11677\n",
       "PX       11677\n",
       "PXH      11677\n",
       "PN       11677\n",
       "PNH      11677\n",
       "VVN      11677\n",
       "VVNH     11677\n",
       "VVX      11677\n",
       "VVXH     11677\n",
       "NG       11677\n",
       "UG       11677\n",
       "UX       11677\n",
       "UXH      11677\n",
       "UN       11677\n",
       "UNH      11677\n",
       "EV24     11677\n",
       "Year     11677\n",
       "Month    11677\n",
       "Day      11677\n",
       "dtype: int64"
      ]
     },
     "execution_count": 5,
     "metadata": {},
     "output_type": "execute_result"
    }
   ],
   "source": [
    "df[df['Year']==1990].count()"
   ]
  },
  {
   "cell_type": "code",
   "execution_count": 6,
   "metadata": {},
   "outputs": [],
   "source": [
    "df.drop(columns=['Date'],inplace=True)"
   ]
  },
  {
   "cell_type": "code",
   "execution_count": 7,
   "metadata": {},
   "outputs": [],
   "source": [
    "categorical = [var for var in df.columns if df[var].dtype=='O']\n",
    "for t in categorical:\n",
    "    df[t] = pd.to_numeric(df[t],errors='coerce')"
   ]
  },
  {
   "cell_type": "code",
   "execution_count": null,
   "metadata": {},
   "outputs": [],
   "source": []
  },
  {
   "cell_type": "code",
   "execution_count": null,
   "metadata": {},
   "outputs": [],
   "source": []
  },
  {
   "cell_type": "code",
   "execution_count": null,
   "metadata": {},
   "outputs": [],
   "source": []
  },
  {
   "cell_type": "code",
   "execution_count": null,
   "metadata": {},
   "outputs": [],
   "source": []
  },
  {
   "cell_type": "code",
   "execution_count": null,
   "metadata": {},
   "outputs": [],
   "source": []
  },
  {
   "cell_type": "code",
   "execution_count": null,
   "metadata": {},
   "outputs": [],
   "source": []
  },
  {
   "cell_type": "code",
   "execution_count": 8,
   "metadata": {},
   "outputs": [],
   "source": [
    "df['TX']=df['TX']/10\n",
    "df['TG']=df['TG']/10\n",
    "df['SQ']=df['SQ']/10"
   ]
  },
  {
   "cell_type": "code",
   "execution_count": 10,
   "metadata": {},
   "outputs": [
    {
     "data": {
      "text/plain": [
       "(0.018118636218684273, -0.19935319066481358, 0.6615603852827485)"
      ]
     },
     "execution_count": 10,
     "metadata": {},
     "output_type": "execute_result"
    }
   ],
   "source": [
    "df['TX'].skew(),df['TG'].skew(),df['SQ'].skew()"
   ]
  },
  {
   "cell_type": "code",
   "execution_count": 525,
   "metadata": {},
   "outputs": [
    {
     "data": {
      "text/plain": [
       "<matplotlib.axes._subplots.AxesSubplot at 0x2539ee1d610>"
      ]
     },
     "execution_count": 525,
     "metadata": {},
     "output_type": "execute_result"
    },
    {
     "data": {
      "image/png": "[encoded data removed]",
      "text/plain": [
       "<Figure size 432x288 with 1 Axes>"
      ]
     },
     "metadata": {
      "needs_background": "light"
     },
     "output_type": "display_data"
    }
   ],
   "source": [
    "df['TX'].hist(),df['TG'].skew(),df['SQ'].skew()"
   ]
  },
  {
   "cell_type": "raw",
   "metadata": {},
   "source": [
    "we can see that TX and TG variables are almost drawn from normal distribution while SQ variable sufferres skewness so to detect ourliers we do EXTREME VALUE ANALYSIS for TX and TG variables and find IQR for SQ variable.\n",
    "so I will use the Gaussian assumption for  TX and TG, and the interquantile range for SQ."
   ]
  },
  {
   "cell_type": "code",
   "execution_count": 557,
   "metadata": {},
   "outputs": [
    {
     "data": {
      "text/plain": [
       "1900"
      ]
     },
     "execution_count": 557,
     "metadata": {},
     "output_type": "execute_result"
    }
   ],
   "source": [
    "df['Year'].min()"
   ]
  },
  {
   "cell_type": "code",
   "execution_count": 558,
   "metadata": {},
   "outputs": [
    {
     "name": "stdout",
     "output_type": "stream",
     "text": [
      "TX outliers are values < -8.061218076076678 or > 35.357121930393426\n"
     ]
    }
   ],
   "source": [
    "# detecting outliers\n",
    "\n",
    "# Age\n",
    "Upper_boundary = df.TX.mean() + 3* df.TX.std()\n",
    "Lower_boundary = df.TX.mean() - 3* df.TX.std()\n",
    "print('TX outliers are values < {lowerboundary} or > {upperboundary}'.format(lowerboundary=Lower_boundary, upperboundary=Upper_boundary))"
   ]
  },
  {
   "cell_type": "code",
   "execution_count": 559,
   "metadata": {},
   "outputs": [
    {
     "data": {
      "text/plain": [
       "count    669068.000000\n",
       "mean         13.647952\n",
       "std           7.236390\n",
       "min         -13.300000\n",
       "25%           8.300000\n",
       "50%          13.600000\n",
       "75%          19.000000\n",
       "max          40.700000\n",
       "Name: TX, dtype: float64"
      ]
     },
     "execution_count": 559,
     "metadata": {},
     "output_type": "execute_result"
    }
   ],
   "source": [
    "df['TX'].describe()"
   ]
  },
  {
   "cell_type": "code",
   "execution_count": 560,
   "metadata": {},
   "outputs": [],
   "source": [
    "df.loc[df.TX>28, 'TG'] = 35\n",
    "df.loc[df.TX<-8, 'TG'] = -8"
   ]
  },
  {
   "cell_type": "code",
   "execution_count": 561,
   "metadata": {},
   "outputs": [
    {
     "name": "stdout",
     "output_type": "stream",
     "text": [
      "TG outliers are values < -10.726421809953639 or > 31.09454713473755\n"
     ]
    }
   ],
   "source": [
    "# detecting outliers\n",
    "\n",
    "Upper_boundary = df.TG.mean() + 3* df.TG.std()\n",
    "Lower_boundary = df.TG.mean() - 3* df.TG.std()\n",
    "print('TG outliers are values < {lowerboundary} or > {upperboundary}'.format(lowerboundary=Lower_boundary, upperboundary=Upper_boundary))"
   ]
  },
  {
   "cell_type": "code",
   "execution_count": 562,
   "metadata": {},
   "outputs": [
    {
     "data": {
      "text/plain": [
       "count    671599.000000\n",
       "mean         10.184063\n",
       "std           6.970161\n",
       "min         -15.200000\n",
       "25%           5.500000\n",
       "50%          10.000000\n",
       "75%          14.900000\n",
       "max          35.000000\n",
       "Name: TG, dtype: float64"
      ]
     },
     "execution_count": 562,
     "metadata": {},
     "output_type": "execute_result"
    }
   ],
   "source": [
    "df['TG'].describe()"
   ]
  },
  {
   "cell_type": "code",
   "execution_count": 563,
   "metadata": {},
   "outputs": [],
   "source": [
    "df.loc[df.TG>28, 'TG'] = 28\n",
    "df.loc[df.TG<-8, 'TG'] = -8"
   ]
  },
  {
   "cell_type": "code",
   "execution_count": 564,
   "metadata": {},
   "outputs": [
    {
     "name": "stdout",
     "output_type": "stream",
     "text": [
      "SQ outliers are values < -20.1 or > 28.200000000000003\n"
     ]
    }
   ],
   "source": [
    "#detecting outliers \n",
    "IQR = df.SQ.quantile(0.75) - df.SQ.quantile(0.25)\n",
    "Lower_fence = df.SQ.quantile(0.25) - (IQR * 3)\n",
    "Upper_fence = df.SQ.quantile(0.75) + (IQR * 3)\n",
    "print('SQ outliers are values < {lowerboundary} or > {upperboundary}'.format(lowerboundary=Lower_fence, upperboundary=Upper_fence))"
   ]
  },
  {
   "cell_type": "code",
   "execution_count": 565,
   "metadata": {},
   "outputs": [
    {
     "data": {
      "text/plain": [
       "count    567422.000000\n",
       "mean          4.533295\n",
       "std           4.126782\n",
       "min          -0.100000\n",
       "25%           0.600000\n",
       "50%           3.700000\n",
       "75%           7.500000\n",
       "max          16.700000\n",
       "Name: SQ, dtype: float64"
      ]
     },
     "execution_count": 565,
     "metadata": {},
     "output_type": "execute_result"
    }
   ],
   "source": [
    "df['SQ'].describe()"
   ]
  },
  {
   "cell_type": "raw",
   "metadata": {},
   "source": [
    "If the skewness is between -0.5 and 0.5, the data are fairly symmetrical."
   ]
  },
  {
   "cell_type": "code",
   "execution_count": 566,
   "metadata": {},
   "outputs": [
    {
     "data": {
      "text/plain": [
       "12"
      ]
     },
     "execution_count": 566,
     "metadata": {},
     "output_type": "execute_result"
    }
   ],
   "source": [
    "df['Month'].max()"
   ]
  },
  {
   "cell_type": "code",
   "execution_count": 502,
   "metadata": {},
   "outputs": [
    {
     "data": {
      "text/plain": [
       "Text(0, 0.5, 'TG')"
      ]
     },
     "execution_count": 502,
     "metadata": {},
     "output_type": "execute_result"
    },
    {
     "data": {
      "image/png": "[encoded data removed]",
      "text/plain": [
       "<Figure size 1080x432 with 2 Axes>"
      ]
     },
     "metadata": {
      "needs_background": "light"
     },
     "output_type": "display_data"
    }
   ],
   "source": [
    "plt.figure(figsize=(15,6))\n",
    "plt.subplot(1, 2, 1)\n",
    "fig = df.boxplot(column='SQ')\n",
    "fig.set_title('')\n",
    "fig.set_ylabel('SQ')\n",
    "\n",
    "plt.subplot(1, 2, 2)\n",
    "fig = df.boxplot(column='TG')\n",
    "fig.set_title('')\n",
    "fig.set_ylabel('TG')"
   ]
  },
  {
   "cell_type": "code",
   "execution_count": 536,
   "metadata": {},
   "outputs": [
    {
     "data": {
      "text/plain": [
       "(0.02978261061646137, -0.615991343451538, -0.4294051724851311)"
      ]
     },
     "execution_count": 536,
     "metadata": {},
     "output_type": "execute_result"
    }
   ],
   "source": [
    "df['TG'].kurtosis(),df['SQ'].kurtosis(),df['TX'].kurtosis()"
   ]
  },
  {
   "cell_type": "code",
   "execution_count": null,
   "metadata": {},
   "outputs": [],
   "source": []
  },
  {
   "cell_type": "code",
   "execution_count": 537,
   "metadata": {},
   "outputs": [],
   "source": [
    "#df.Day = df.Day.astype(int)\n",
    "#df.Month = df.Day.astype(int)\n",
    "#df.Year=df.Year.astype(int)"
   ]
  },
  {
   "cell_type": "code",
   "execution_count": 538,
   "metadata": {},
   "outputs": [
    {
     "data": {
      "text/html": [
       "<div>\n",
       "<style scoped>\n",
       "    .dataframe tbody tr th:only-of-type {\n",
       "        vertical-align: middle;\n",
       "    }\n",
       "\n",
       "    .dataframe tbody tr th {\n",
       "        vertical-align: top;\n",
       "    }\n",
       "\n",
       "    .dataframe thead th {\n",
       "        text-align: right;\n",
       "    }\n",
       "</style>\n",
       "<table border=\"1\" class=\"dataframe\">\n",
       "  <thead>\n",
       "    <tr style=\"text-align: right;\">\n",
       "      <th></th>\n",
       "      <th>DDVEC</th>\n",
       "      <th>FHVEC</th>\n",
       "      <th>FG</th>\n",
       "      <th>FHX</th>\n",
       "      <th>FHXH</th>\n",
       "      <th>FHN</th>\n",
       "      <th>FHNH</th>\n",
       "      <th>FXX</th>\n",
       "      <th>FXXH</th>\n",
       "      <th>TG</th>\n",
       "      <th>...</th>\n",
       "      <th>NG</th>\n",
       "      <th>UG</th>\n",
       "      <th>UX</th>\n",
       "      <th>UXH</th>\n",
       "      <th>UN</th>\n",
       "      <th>UNH</th>\n",
       "      <th>EV24</th>\n",
       "      <th>Year</th>\n",
       "      <th>Month</th>\n",
       "      <th>Day</th>\n",
       "    </tr>\n",
       "  </thead>\n",
       "  <tbody>\n",
       "    <tr>\n",
       "      <th>1</th>\n",
       "      <td>NaN</td>\n",
       "      <td>NaN</td>\n",
       "      <td>NaN</td>\n",
       "      <td>NaN</td>\n",
       "      <td>NaN</td>\n",
       "      <td>NaN</td>\n",
       "      <td>NaN</td>\n",
       "      <td>NaN</td>\n",
       "      <td>NaN</td>\n",
       "      <td>NaN</td>\n",
       "      <td>...</td>\n",
       "      <td>NaN</td>\n",
       "      <td>NaN</td>\n",
       "      <td>NaN</td>\n",
       "      <td>NaN</td>\n",
       "      <td>NaN</td>\n",
       "      <td>NaN</td>\n",
       "      <td>NaN</td>\n",
       "      <td>2000</td>\n",
       "      <td>1</td>\n",
       "      <td>30</td>\n",
       "    </tr>\n",
       "    <tr>\n",
       "      <th>2</th>\n",
       "      <td>NaN</td>\n",
       "      <td>NaN</td>\n",
       "      <td>NaN</td>\n",
       "      <td>NaN</td>\n",
       "      <td>NaN</td>\n",
       "      <td>NaN</td>\n",
       "      <td>NaN</td>\n",
       "      <td>NaN</td>\n",
       "      <td>NaN</td>\n",
       "      <td>NaN</td>\n",
       "      <td>...</td>\n",
       "      <td>NaN</td>\n",
       "      <td>NaN</td>\n",
       "      <td>NaN</td>\n",
       "      <td>NaN</td>\n",
       "      <td>NaN</td>\n",
       "      <td>NaN</td>\n",
       "      <td>NaN</td>\n",
       "      <td>2000</td>\n",
       "      <td>1</td>\n",
       "      <td>31</td>\n",
       "    </tr>\n",
       "    <tr>\n",
       "      <th>3</th>\n",
       "      <td>236.0</td>\n",
       "      <td>13.0</td>\n",
       "      <td>24.0</td>\n",
       "      <td>50.0</td>\n",
       "      <td>8.0</td>\n",
       "      <td>10.0</td>\n",
       "      <td>1.0</td>\n",
       "      <td>90.0</td>\n",
       "      <td>20.0</td>\n",
       "      <td>NaN</td>\n",
       "      <td>...</td>\n",
       "      <td>NaN</td>\n",
       "      <td>NaN</td>\n",
       "      <td>NaN</td>\n",
       "      <td>NaN</td>\n",
       "      <td>NaN</td>\n",
       "      <td>NaN</td>\n",
       "      <td>NaN</td>\n",
       "      <td>2000</td>\n",
       "      <td>2</td>\n",
       "      <td>1</td>\n",
       "    </tr>\n",
       "    <tr>\n",
       "      <th>4</th>\n",
       "      <td>150.0</td>\n",
       "      <td>46.0</td>\n",
       "      <td>58.0</td>\n",
       "      <td>80.0</td>\n",
       "      <td>9.0</td>\n",
       "      <td>10.0</td>\n",
       "      <td>3.0</td>\n",
       "      <td>100.0</td>\n",
       "      <td>9.0</td>\n",
       "      <td>NaN</td>\n",
       "      <td>...</td>\n",
       "      <td>NaN</td>\n",
       "      <td>NaN</td>\n",
       "      <td>NaN</td>\n",
       "      <td>NaN</td>\n",
       "      <td>NaN</td>\n",
       "      <td>NaN</td>\n",
       "      <td>NaN</td>\n",
       "      <td>2000</td>\n",
       "      <td>2</td>\n",
       "      <td>2</td>\n",
       "    </tr>\n",
       "    <tr>\n",
       "      <th>5</th>\n",
       "      <td>106.0</td>\n",
       "      <td>65.0</td>\n",
       "      <td>66.0</td>\n",
       "      <td>90.0</td>\n",
       "      <td>8.0</td>\n",
       "      <td>50.0</td>\n",
       "      <td>1.0</td>\n",
       "      <td>120.0</td>\n",
       "      <td>8.0</td>\n",
       "      <td>NaN</td>\n",
       "      <td>...</td>\n",
       "      <td>NaN</td>\n",
       "      <td>NaN</td>\n",
       "      <td>NaN</td>\n",
       "      <td>NaN</td>\n",
       "      <td>NaN</td>\n",
       "      <td>NaN</td>\n",
       "      <td>NaN</td>\n",
       "      <td>2000</td>\n",
       "      <td>2</td>\n",
       "      <td>3</td>\n",
       "    </tr>\n",
       "  </tbody>\n",
       "</table>\n",
       "<p>5 rows × 42 columns</p>\n",
       "</div>"
      ],
      "text/plain": [
       "   DDVEC  FHVEC    FG   FHX  FHXH   FHN  FHNH    FXX  FXXH  TG  ...  NG  UG  \\\n",
       "1    NaN    NaN   NaN   NaN   NaN   NaN   NaN    NaN   NaN NaN  ... NaN NaN   \n",
       "2    NaN    NaN   NaN   NaN   NaN   NaN   NaN    NaN   NaN NaN  ... NaN NaN   \n",
       "3  236.0   13.0  24.0  50.0   8.0  10.0   1.0   90.0  20.0 NaN  ... NaN NaN   \n",
       "4  150.0   46.0  58.0  80.0   9.0  10.0   3.0  100.0   9.0 NaN  ... NaN NaN   \n",
       "5  106.0   65.0  66.0  90.0   8.0  50.0   1.0  120.0   8.0 NaN  ... NaN NaN   \n",
       "\n",
       "   UX  UXH  UN  UNH  EV24  Year  Month  Day  \n",
       "1 NaN  NaN NaN  NaN   NaN  2000      1   30  \n",
       "2 NaN  NaN NaN  NaN   NaN  2000      1   31  \n",
       "3 NaN  NaN NaN  NaN   NaN  2000      2    1  \n",
       "4 NaN  NaN NaN  NaN   NaN  2000      2    2  \n",
       "5 NaN  NaN NaN  NaN   NaN  2000      2    3  \n",
       "\n",
       "[5 rows x 42 columns]"
      ]
     },
     "execution_count": 538,
     "metadata": {},
     "output_type": "execute_result"
    }
   ],
   "source": [
    "df.head()"
   ]
  },
  {
   "cell_type": "code",
   "execution_count": 567,
   "metadata": {},
   "outputs": [],
   "source": [
    "imputer = RandomSampleImputer(random_state = 29)\n",
    "\n",
    "# fit the imputer to the train set\n",
    "imputer.fit(df)\n",
    "\n",
    "# transform the data\n",
    "idf = imputer.transform(df)"
   ]
  },
  {
   "cell_type": "code",
   "execution_count": null,
   "metadata": {},
   "outputs": [],
   "source": []
  },
  {
   "cell_type": "code",
   "execution_count": 540,
   "metadata": {},
   "outputs": [],
   "source": [
    "mdf=df.copy()        \n",
    "#for t in categorical:\n",
    "for t in mdf.columns:\n",
    "    col_median=mdf[t].median()\n",
    "    mdf[t]=mdf[t].fillna(col_median)"
   ]
  },
  {
   "cell_type": "code",
   "execution_count": 569,
   "metadata": {},
   "outputs": [
    {
     "data": {
      "text/html": [
       "<div>\n",
       "<style scoped>\n",
       "    .dataframe tbody tr th:only-of-type {\n",
       "        vertical-align: middle;\n",
       "    }\n",
       "\n",
       "    .dataframe tbody tr th {\n",
       "        vertical-align: top;\n",
       "    }\n",
       "\n",
       "    .dataframe thead th {\n",
       "        text-align: right;\n",
       "    }\n",
       "</style>\n",
       "<table border=\"1\" class=\"dataframe\">\n",
       "  <thead>\n",
       "    <tr style=\"text-align: right;\">\n",
       "      <th></th>\n",
       "      <th>DDVEC</th>\n",
       "      <th>FHVEC</th>\n",
       "      <th>FG</th>\n",
       "      <th>FHX</th>\n",
       "      <th>FHXH</th>\n",
       "      <th>FHN</th>\n",
       "      <th>FHNH</th>\n",
       "      <th>FXX</th>\n",
       "      <th>FXXH</th>\n",
       "      <th>TG</th>\n",
       "      <th>...</th>\n",
       "      <th>NG</th>\n",
       "      <th>UG</th>\n",
       "      <th>UX</th>\n",
       "      <th>UXH</th>\n",
       "      <th>UN</th>\n",
       "      <th>UNH</th>\n",
       "      <th>EV24</th>\n",
       "      <th>Year</th>\n",
       "      <th>Month</th>\n",
       "      <th>Day</th>\n",
       "    </tr>\n",
       "  </thead>\n",
       "  <tbody>\n",
       "    <tr>\n",
       "      <th>1</th>\n",
       "      <td>256.0</td>\n",
       "      <td>62.0</td>\n",
       "      <td>59.0</td>\n",
       "      <td>60.0</td>\n",
       "      <td>16.0</td>\n",
       "      <td>20.0</td>\n",
       "      <td>2.0</td>\n",
       "      <td>31.0</td>\n",
       "      <td>7.0</td>\n",
       "      <td>16.1</td>\n",
       "      <td>...</td>\n",
       "      <td>4.0</td>\n",
       "      <td>77.0</td>\n",
       "      <td>98.0</td>\n",
       "      <td>6.0</td>\n",
       "      <td>53.0</td>\n",
       "      <td>11.0</td>\n",
       "      <td>17.0</td>\n",
       "      <td>2000</td>\n",
       "      <td>1</td>\n",
       "      <td>30</td>\n",
       "    </tr>\n",
       "    <tr>\n",
       "      <th>2</th>\n",
       "      <td>170.0</td>\n",
       "      <td>62.0</td>\n",
       "      <td>10.0</td>\n",
       "      <td>113.0</td>\n",
       "      <td>24.0</td>\n",
       "      <td>57.0</td>\n",
       "      <td>7.0</td>\n",
       "      <td>123.0</td>\n",
       "      <td>1.0</td>\n",
       "      <td>14.1</td>\n",
       "      <td>...</td>\n",
       "      <td>7.0</td>\n",
       "      <td>88.0</td>\n",
       "      <td>99.0</td>\n",
       "      <td>17.0</td>\n",
       "      <td>52.0</td>\n",
       "      <td>11.0</td>\n",
       "      <td>11.0</td>\n",
       "      <td>2000</td>\n",
       "      <td>1</td>\n",
       "      <td>31</td>\n",
       "    </tr>\n",
       "    <tr>\n",
       "      <th>3</th>\n",
       "      <td>236.0</td>\n",
       "      <td>13.0</td>\n",
       "      <td>24.0</td>\n",
       "      <td>50.0</td>\n",
       "      <td>8.0</td>\n",
       "      <td>10.0</td>\n",
       "      <td>1.0</td>\n",
       "      <td>90.0</td>\n",
       "      <td>20.0</td>\n",
       "      <td>3.1</td>\n",
       "      <td>...</td>\n",
       "      <td>4.0</td>\n",
       "      <td>81.0</td>\n",
       "      <td>99.0</td>\n",
       "      <td>3.0</td>\n",
       "      <td>59.0</td>\n",
       "      <td>16.0</td>\n",
       "      <td>18.0</td>\n",
       "      <td>2000</td>\n",
       "      <td>2</td>\n",
       "      <td>1</td>\n",
       "    </tr>\n",
       "    <tr>\n",
       "      <th>4</th>\n",
       "      <td>150.0</td>\n",
       "      <td>46.0</td>\n",
       "      <td>58.0</td>\n",
       "      <td>80.0</td>\n",
       "      <td>9.0</td>\n",
       "      <td>10.0</td>\n",
       "      <td>3.0</td>\n",
       "      <td>100.0</td>\n",
       "      <td>9.0</td>\n",
       "      <td>16.0</td>\n",
       "      <td>...</td>\n",
       "      <td>5.0</td>\n",
       "      <td>70.0</td>\n",
       "      <td>98.0</td>\n",
       "      <td>2.0</td>\n",
       "      <td>52.0</td>\n",
       "      <td>14.0</td>\n",
       "      <td>3.0</td>\n",
       "      <td>2000</td>\n",
       "      <td>2</td>\n",
       "      <td>2</td>\n",
       "    </tr>\n",
       "    <tr>\n",
       "      <th>5</th>\n",
       "      <td>106.0</td>\n",
       "      <td>65.0</td>\n",
       "      <td>66.0</td>\n",
       "      <td>90.0</td>\n",
       "      <td>8.0</td>\n",
       "      <td>50.0</td>\n",
       "      <td>1.0</td>\n",
       "      <td>120.0</td>\n",
       "      <td>8.0</td>\n",
       "      <td>9.2</td>\n",
       "      <td>...</td>\n",
       "      <td>6.0</td>\n",
       "      <td>94.0</td>\n",
       "      <td>97.0</td>\n",
       "      <td>5.0</td>\n",
       "      <td>85.0</td>\n",
       "      <td>21.0</td>\n",
       "      <td>6.0</td>\n",
       "      <td>2000</td>\n",
       "      <td>2</td>\n",
       "      <td>3</td>\n",
       "    </tr>\n",
       "  </tbody>\n",
       "</table>\n",
       "<p>5 rows × 42 columns</p>\n",
       "</div>"
      ],
      "text/plain": [
       "   DDVEC  FHVEC    FG    FHX  FHXH   FHN  FHNH    FXX  FXXH    TG  ...   NG  \\\n",
       "1  256.0   62.0  59.0   60.0  16.0  20.0   2.0   31.0   7.0  16.1  ...  4.0   \n",
       "2  170.0   62.0  10.0  113.0  24.0  57.0   7.0  123.0   1.0  14.1  ...  7.0   \n",
       "3  236.0   13.0  24.0   50.0   8.0  10.0   1.0   90.0  20.0   3.1  ...  4.0   \n",
       "4  150.0   46.0  58.0   80.0   9.0  10.0   3.0  100.0   9.0  16.0  ...  5.0   \n",
       "5  106.0   65.0  66.0   90.0   8.0  50.0   1.0  120.0   8.0   9.2  ...  6.0   \n",
       "\n",
       "     UG    UX   UXH    UN   UNH  EV24  Year  Month  Day  \n",
       "1  77.0  98.0   6.0  53.0  11.0  17.0  2000      1   30  \n",
       "2  88.0  99.0  17.0  52.0  11.0  11.0  2000      1   31  \n",
       "3  81.0  99.0   3.0  59.0  16.0  18.0  2000      2    1  \n",
       "4  70.0  98.0   2.0  52.0  14.0   3.0  2000      2    2  \n",
       "5  94.0  97.0   5.0  85.0  21.0   6.0  2000      2    3  \n",
       "\n",
       "[5 rows x 42 columns]"
      ]
     },
     "execution_count": 569,
     "metadata": {},
     "output_type": "execute_result"
    }
   ],
   "source": [
    "idf.head()"
   ]
  },
  {
   "cell_type": "code",
   "execution_count": null,
   "metadata": {},
   "outputs": [],
   "source": []
  },
  {
   "cell_type": "code",
   "execution_count": 450,
   "metadata": {},
   "outputs": [
    {
     "name": "stdout",
     "output_type": "stream",
     "text": [
      "the most relevant features are\n"
     ]
    },
    {
     "data": {
      "text/plain": [
       "TG      0.378291\n",
       "TX      0.475093\n",
       "SQ      1.000000\n",
       "SP      0.936841\n",
       "Q       0.706305\n",
       "NG      0.401875\n",
       "UG      0.532810\n",
       "UN      0.570755\n",
       "EV24    0.691001\n",
       "Name: SQ, dtype: float64"
      ]
     },
     "execution_count": 450,
     "metadata": {},
     "output_type": "execute_result"
    }
   ],
   "source": [
    "cor=mdf.corr()\n",
    "#f , ax = plt.subplots(figsize = (14,12))\n",
    "#plt.title('Correlation of Features- HeatMap',y=1,size=16)\n",
    "#sns.heatmap(cor,square = True,  vmax=0.8)\n",
    "cor_target = abs(cor[\"SQ\"])\n",
    "#Selecting highly correlated features\n",
    "relevant_features = cor_target[cor_target>0.3]\n",
    "print('the most relevant features are')\n",
    "relevant_features"
   ]
  },
  {
   "cell_type": "code",
   "execution_count": null,
   "metadata": {},
   "outputs": [],
   "source": []
  },
  {
   "cell_type": "code",
   "execution_count": null,
   "metadata": {},
   "outputs": [],
   "source": []
  },
  {
   "cell_type": "code",
   "execution_count": null,
   "metadata": {},
   "outputs": [],
   "source": []
  },
  {
   "cell_type": "code",
   "execution_count": null,
   "metadata": {},
   "outputs": [],
   "source": []
  },
  {
   "cell_type": "code",
   "execution_count": 570,
   "metadata": {},
   "outputs": [],
   "source": [
    "idf.rename(columns = {'TX':'Maximum temperature','SQ':'Sunshine duration','TG':'24-hour average temperature' }, inplace = True)  "
   ]
  },
  {
   "cell_type": "code",
   "execution_count": 571,
   "metadata": {},
   "outputs": [],
   "source": [
    "idf=idf[['Maximum temperature','Sunshine duration','24-hour average temperature','Year','Month','Day']]"
   ]
  },
  {
   "cell_type": "code",
   "execution_count": null,
   "metadata": {},
   "outputs": [],
   "source": []
  },
  {
   "cell_type": "code",
   "execution_count": 572,
   "metadata": {},
   "outputs": [
    {
     "data": {
      "text/html": [
       "<div>\n",
       "<style scoped>\n",
       "    .dataframe tbody tr th:only-of-type {\n",
       "        vertical-align: middle;\n",
       "    }\n",
       "\n",
       "    .dataframe tbody tr th {\n",
       "        vertical-align: top;\n",
       "    }\n",
       "\n",
       "    .dataframe thead th {\n",
       "        text-align: right;\n",
       "    }\n",
       "</style>\n",
       "<table border=\"1\" class=\"dataframe\">\n",
       "  <thead>\n",
       "    <tr style=\"text-align: right;\">\n",
       "      <th></th>\n",
       "      <th>Maximum temperature</th>\n",
       "      <th>Sunshine duration</th>\n",
       "      <th>24-hour average temperature</th>\n",
       "      <th>Year</th>\n",
       "      <th>Month</th>\n",
       "      <th>Day</th>\n",
       "    </tr>\n",
       "  </thead>\n",
       "  <tbody>\n",
       "    <tr>\n",
       "      <th>1</th>\n",
       "      <td>8.1</td>\n",
       "      <td>-0.1</td>\n",
       "      <td>16.1</td>\n",
       "      <td>2000</td>\n",
       "      <td>1</td>\n",
       "      <td>30</td>\n",
       "    </tr>\n",
       "    <tr>\n",
       "      <th>2</th>\n",
       "      <td>10.2</td>\n",
       "      <td>1.0</td>\n",
       "      <td>14.1</td>\n",
       "      <td>2000</td>\n",
       "      <td>1</td>\n",
       "      <td>31</td>\n",
       "    </tr>\n",
       "    <tr>\n",
       "      <th>3</th>\n",
       "      <td>13.5</td>\n",
       "      <td>1.2</td>\n",
       "      <td>3.1</td>\n",
       "      <td>2000</td>\n",
       "      <td>2</td>\n",
       "      <td>1</td>\n",
       "    </tr>\n",
       "    <tr>\n",
       "      <th>4</th>\n",
       "      <td>12.3</td>\n",
       "      <td>0.6</td>\n",
       "      <td>16.0</td>\n",
       "      <td>2000</td>\n",
       "      <td>2</td>\n",
       "      <td>2</td>\n",
       "    </tr>\n",
       "    <tr>\n",
       "      <th>5</th>\n",
       "      <td>9.4</td>\n",
       "      <td>8.9</td>\n",
       "      <td>9.2</td>\n",
       "      <td>2000</td>\n",
       "      <td>2</td>\n",
       "      <td>3</td>\n",
       "    </tr>\n",
       "  </tbody>\n",
       "</table>\n",
       "</div>"
      ],
      "text/plain": [
       "   Maximum temperature  Sunshine duration  24-hour average temperature  Year  \\\n",
       "1                  8.1               -0.1                         16.1  2000   \n",
       "2                 10.2                1.0                         14.1  2000   \n",
       "3                 13.5                1.2                          3.1  2000   \n",
       "4                 12.3                0.6                         16.0  2000   \n",
       "5                  9.4                8.9                          9.2  2000   \n",
       "\n",
       "   Month  Day  \n",
       "1      1   30  \n",
       "2      1   31  \n",
       "3      2    1  \n",
       "4      2    2  \n",
       "5      2    3  "
      ]
     },
     "execution_count": 572,
     "metadata": {},
     "output_type": "execute_result"
    }
   ],
   "source": [
    "idf.head()"
   ]
  },
  {
   "cell_type": "code",
   "execution_count": 573,
   "metadata": {},
   "outputs": [],
   "source": [
    "idf.to_csv('TSQdata.csv')"
   ]
  },
  {
   "cell_type": "code",
   "execution_count": null,
   "metadata": {},
   "outputs": [],
   "source": []
  }
 ],
 "metadata": {
  "kernelspec": {
   "display_name": "Python 3",
   "language": "python",
   "name": "python3"
  },
  "language_info": {
   "codemirror_mode": {
    "name": "ipython",
    "version": 3
   },
   "file_extension": ".py",
   "mimetype": "text/x-python",
   "name": "python",
   "nbconvert_exporter": "python",
   "pygments_lexer": "ipython3",
   "version": "3.8.3"
  }
 },
 "nbformat": 4,
 "nbformat_minor": 4
}
